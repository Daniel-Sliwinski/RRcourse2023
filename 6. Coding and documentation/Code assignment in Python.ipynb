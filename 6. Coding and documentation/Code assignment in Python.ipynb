{
 "cells": [
  {
   "cell_type": "code",
   "execution_count": null,
   "id": "29347c17",
   "metadata": {},
   "outputs": [],
   "source": [
    "import os\n",
    "import pandas as pd\n",
    "import numpy as np\n",
    "import re\n",
    "from scipy.stats import gmean\n",
    "from scipy import stats\n",
    "import matplotlib.pyplot as plt"
   ]
  },
  {
   "cell_type": "code",
   "execution_count": null,
   "id": "8b0f5997",
   "metadata": {},
   "outputs": [],
   "source": [
    "##### Define functions #######\n",
    "\n",
    "# Function to standardize task values\n",
    "def standardize_task_values(group):\n",
    "    mean = np.average(group['task_value'], weights=group['share'])\n",
    "    std_dev = np.sqrt(np.average((group['task_value'] - mean)**2, weights=group['share']))\n",
    "    standardized_values = (group['task_value'] - mean) / std_dev\n",
    "    return standardized_values"
   ]
  },
  {
   "cell_type": "code",
   "execution_count": null,
   "id": "dd5543d3",
   "metadata": {},
   "outputs": [],
   "source": [
    "# Sets the path to the parent directory of RR classes\n",
    "os.chdir(os.path.join( \"RRcourse2023\", \"6. Coding and documentation\"))\n",
    "\n",
    "# Import task data from the O*NET database\n",
    "task_data = pd.read_csv(\"Data\\\\onet_tasks.csv\")\n",
    "\n",
    "# Read Eurostat employment data from Excel file\n",
    "excel_file = \"Data\\\\Eurostat_employment_isco.xlsx\"\n",
    "sheet_names = [\"ISCO1\", \"ISCO2\", \"ISCO3\", \"ISCO4\", \"ISCO5\", \"ISCO6\", \"ISCO7\", \"ISCO8\", \"ISCO9\"]\n",
    "employment_data = []\n",
    "\n",
    "for sheet_name in sheet_names:\n",
    "    df = pd.read_excel(excel_file, sheet_name=sheet_name)\n",
    "    df['ISCO'] = int(sheet_name[-1])\n",
    "    employment_data.append(df)\n",
    "\n",
    "# Combine employment data from different ISCO levels into a single DataFrame\n",
    "all_data = pd.concat(employment_data, ignore_index=True)"
   ]
  },
  {
   "cell_type": "code",
   "execution_count": null,
   "id": "2eacc72f",
   "metadata": {},
   "outputs": [],
   "source": [
    "# Calculate the total number of workers for each country\n",
    "countries = [\"Belgium\", \"Spain\", \"Poland\"]\n",
    "total_workers = {}\n",
    "\n",
    "for country in countries:\n",
    "    total_workers[country] = sum(isco[country] for isco in employment_data)\n",
    "\n",
    "# Add 1-digit ISCO code to the task data\n",
    "task_data[\"isco08_1dig\"] = task_data[\"isco08\"].astype(str).str[:1].astype(int)\n",
    "\n",
    "# Standardize task values for each task and country separately\n",
    "task_columns = ['t_4A2a4', 't_4A2b2', 't_4A4a1']\n",
    "\n",
    "for task_column in task_columns:\n",
    "    for country in countries:\n",
    "        # Filter task data for the specific task and country\n",
    "        task_subset = task_data[(task_data['task'] == task_column) & (task_data['country'] == country)]\n",
    "        # Group by 1-digit ISCO and apply the standardization function\n",
    "        standardized_values = task_subset.groupby('isco08_1dig').apply(standardize_task_values)\n",
    "        # Add standardized values to the task data\n",
    "        task_data[f'std_{country}_{task_column}'] = standardized_values.values"
   ]
  },
  {
   "cell_type": "code",
   "execution_count": null,
   "id": "f1e4a76a",
   "metadata": {},
   "outputs": [],
   "source": [
    "# Calculate the intensity of non-routine cognitive analytical tasks (NRCA)\n",
    "for country in countries:\n",
    "    task_columns_std = [f'std_{country}_{task_column}' for task_column in task_columns]\n",
    "    task_data[f'{country}_NRCA'] = task_data[task_columns_std].sum(axis=1)\n",
    "\n",
    "# Standardize NRCA values for each country\n",
    "for country in countries:\n",
    "    std_column = f'std_{country}_NRCA'\n",
    "    mean = np.average(task_data[std_column], weights=task_data['share'])\n",
    "    std_dev = np.sqrt(np.average((task_data[std_column] - mean)**2, weights=task_data['share']))\n",
    "    task_data[f'std_{country}_NRCA'] = (task_data[std_column] - mean) / std_dev"
   ]
  },
  {
   "cell_type": "code",
   "execution_count": null,
   "id": "9b853c49",
   "metadata": {},
   "outputs": [],
   "source": [
    "# Calculate the country-level mean of standardized NRCA values\n",
    "multip_columns = [f'std_{country}_NRCA' for country in countries]\n",
    "task_data['multip_NRCA'] = task_data[multip_columns].mul(task_data['share'], axis=0).sum(axis=1)\n",
    "\n",
    "# Group by time and calculate the sum of multip_NRCA for each country over time\n",
    "agg_data = task_data.groupby('TIME')[[f'multip_{country}_NRCA' for country in countries]].sum().reset_index()"
   ]
  },
  {
   "cell_type": "code",
   "execution_count": null,
   "id": "8d9e70f9",
   "metadata": {},
   "outputs": [],
   "source": [
    "# Plot the changes in NRCA intensity over time for each country using subplots\n",
    "fig, axs = plt.subplots(len(countries), 1, figsize=(8, 6), sharex=True)\n",
    "\n",
    "for i, country in enumerate(countries):\n",
    "    axs[i].plot(agg_data['TIME'], agg_data[f'multip_{country}_NRCA'])\n",
    "    axs[i].set_xticks(range(0, len(agg_data), 3))\n",
    "    axs[i].set_xticklabels(agg_data['TIME'][::3])\n",
    "    axs[i].set_title(country)\n",
    "\n",
    "plt.tight_layout()\n",
    "plt.show()"
   ]
  }
 ],
 "metadata": {
  "kernelspec": {
   "display_name": "Python 3 (ipykernel)",
   "language": "python",
   "name": "python3"
  },
  "language_info": {
   "codemirror_mode": {
    "name": "ipython",
    "version": 3
   },
   "file_extension": ".py",
   "mimetype": "text/x-python",
   "name": "python",
   "nbconvert_exporter": "python",
   "pygments_lexer": "ipython3",
   "version": "3.11.2"
  }
 },
 "nbformat": 4,
 "nbformat_minor": 5
}
